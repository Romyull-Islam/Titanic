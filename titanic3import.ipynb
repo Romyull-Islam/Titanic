{
    "cells": [
        {
            "cell_type": "code",
            "execution_count": 1,
            "metadata": {
                "colab": {},
                "colab_type": "code",
                "id": "bpGc0OAC_UYv"
            },
            "outputs": [],
            "source": "import numpy as np\nimport pandas as pd\nimport seaborn as sns \nimport matplotlib.pyplot as plt\n\n"
        },
        {
            "cell_type": "code",
            "execution_count": 2,
            "metadata": {
                "colab": {},
                "colab_type": "code",
                "id": "Dkg6lHpC_dAs"
            },
            "outputs": [],
            "source": "t = pd.read_csv(\"https://raw.githubusercontent.com/Romyull-Islam/Titanic/master/TITANIC3/titanic3.csv\")\n"
        },
        {
            "cell_type": "code",
            "execution_count": 3,
            "metadata": {
                "colab": {
                    "base_uri": "https://localhost:8080/",
                    "height": 452
                },
                "colab_type": "code",
                "id": "_VOwfseE_f6m",
                "outputId": "dadb3354-0c6d-4500-951d-c9ae97e3fab0"
            },
            "outputs": [
                {
                    "data": {
                        "text/html": "<div>\n<style scoped>\n    .dataframe tbody tr th:only-of-type {\n        vertical-align: middle;\n    }\n\n    .dataframe tbody tr th {\n        vertical-align: top;\n    }\n\n    .dataframe thead th {\n        text-align: right;\n    }\n</style>\n<table border=\"1\" class=\"dataframe\">\n  <thead>\n    <tr style=\"text-align: right;\">\n      <th></th>\n      <th>pclass</th>\n      <th>survived</th>\n      <th>name</th>\n      <th>sex</th>\n      <th>age</th>\n      <th>sibsp</th>\n      <th>parch</th>\n      <th>ticket</th>\n      <th>fare</th>\n      <th>cabin</th>\n      <th>embarked</th>\n      <th>boat</th>\n      <th>body</th>\n      <th>home.dest</th>\n    </tr>\n  </thead>\n  <tbody>\n    <tr>\n      <th>0</th>\n      <td>1</td>\n      <td>1</td>\n      <td>Allen, Miss. Elisabeth Walton</td>\n      <td>female</td>\n      <td>29.00</td>\n      <td>0</td>\n      <td>0</td>\n      <td>24160</td>\n      <td>211.3375</td>\n      <td>B5</td>\n      <td>S</td>\n      <td>2</td>\n      <td>NaN</td>\n      <td>St Louis, MO</td>\n    </tr>\n    <tr>\n      <th>1</th>\n      <td>1</td>\n      <td>1</td>\n      <td>Allison, Master. Hudson Trevor</td>\n      <td>male</td>\n      <td>0.92</td>\n      <td>1</td>\n      <td>2</td>\n      <td>113781</td>\n      <td>151.5500</td>\n      <td>C22 C26</td>\n      <td>S</td>\n      <td>11</td>\n      <td>NaN</td>\n      <td>Montreal, PQ / Chesterville, ON</td>\n    </tr>\n    <tr>\n      <th>2</th>\n      <td>1</td>\n      <td>0</td>\n      <td>Allison, Miss. Helen Loraine</td>\n      <td>female</td>\n      <td>2.00</td>\n      <td>1</td>\n      <td>2</td>\n      <td>113781</td>\n      <td>151.5500</td>\n      <td>C22 C26</td>\n      <td>S</td>\n      <td>NaN</td>\n      <td>NaN</td>\n      <td>Montreal, PQ / Chesterville, ON</td>\n    </tr>\n    <tr>\n      <th>3</th>\n      <td>1</td>\n      <td>0</td>\n      <td>Allison, Mr. Hudson Joshua Creighton</td>\n      <td>male</td>\n      <td>30.00</td>\n      <td>1</td>\n      <td>2</td>\n      <td>113781</td>\n      <td>151.5500</td>\n      <td>C22 C26</td>\n      <td>S</td>\n      <td>NaN</td>\n      <td>135.0</td>\n      <td>Montreal, PQ / Chesterville, ON</td>\n    </tr>\n    <tr>\n      <th>4</th>\n      <td>1</td>\n      <td>0</td>\n      <td>Allison, Mrs. Hudson J C (Bessie Waldo Daniels)</td>\n      <td>female</td>\n      <td>25.00</td>\n      <td>1</td>\n      <td>2</td>\n      <td>113781</td>\n      <td>151.5500</td>\n      <td>C22 C26</td>\n      <td>S</td>\n      <td>NaN</td>\n      <td>NaN</td>\n      <td>Montreal, PQ / Chesterville, ON</td>\n    </tr>\n    <tr>\n      <th>5</th>\n      <td>1</td>\n      <td>1</td>\n      <td>Anderson, Mr. Harry</td>\n      <td>male</td>\n      <td>48.00</td>\n      <td>0</td>\n      <td>0</td>\n      <td>19952</td>\n      <td>26.5500</td>\n      <td>E12</td>\n      <td>S</td>\n      <td>3</td>\n      <td>NaN</td>\n      <td>New York, NY</td>\n    </tr>\n    <tr>\n      <th>6</th>\n      <td>1</td>\n      <td>1</td>\n      <td>Andrews, Miss. Kornelia Theodosia</td>\n      <td>female</td>\n      <td>63.00</td>\n      <td>1</td>\n      <td>0</td>\n      <td>13502</td>\n      <td>77.9583</td>\n      <td>D7</td>\n      <td>S</td>\n      <td>10</td>\n      <td>NaN</td>\n      <td>Hudson, NY</td>\n    </tr>\n    <tr>\n      <th>7</th>\n      <td>1</td>\n      <td>0</td>\n      <td>Andrews, Mr. Thomas Jr</td>\n      <td>male</td>\n      <td>39.00</td>\n      <td>0</td>\n      <td>0</td>\n      <td>112050</td>\n      <td>0.0000</td>\n      <td>A36</td>\n      <td>S</td>\n      <td>NaN</td>\n      <td>NaN</td>\n      <td>Belfast, NI</td>\n    </tr>\n    <tr>\n      <th>8</th>\n      <td>1</td>\n      <td>1</td>\n      <td>Appleton, Mrs. Edward Dale (Charlotte Lamson)</td>\n      <td>female</td>\n      <td>53.00</td>\n      <td>2</td>\n      <td>0</td>\n      <td>11769</td>\n      <td>51.4792</td>\n      <td>C101</td>\n      <td>S</td>\n      <td>D</td>\n      <td>NaN</td>\n      <td>Bayside, Queens, NY</td>\n    </tr>\n    <tr>\n      <th>9</th>\n      <td>1</td>\n      <td>0</td>\n      <td>Artagaveytia, Mr. Ramon</td>\n      <td>male</td>\n      <td>71.00</td>\n      <td>0</td>\n      <td>0</td>\n      <td>PC 17609</td>\n      <td>49.5042</td>\n      <td>NaN</td>\n      <td>C</td>\n      <td>NaN</td>\n      <td>22.0</td>\n      <td>Montevideo, Uruguay</td>\n    </tr>\n  </tbody>\n</table>\n</div>",
                        "text/plain": "   pclass  survived                                             name     sex  \\\n0       1         1                    Allen, Miss. Elisabeth Walton  female   \n1       1         1                   Allison, Master. Hudson Trevor    male   \n2       1         0                     Allison, Miss. Helen Loraine  female   \n3       1         0             Allison, Mr. Hudson Joshua Creighton    male   \n4       1         0  Allison, Mrs. Hudson J C (Bessie Waldo Daniels)  female   \n5       1         1                              Anderson, Mr. Harry    male   \n6       1         1                Andrews, Miss. Kornelia Theodosia  female   \n7       1         0                           Andrews, Mr. Thomas Jr    male   \n8       1         1    Appleton, Mrs. Edward Dale (Charlotte Lamson)  female   \n9       1         0                          Artagaveytia, Mr. Ramon    male   \n\n     age  sibsp  parch    ticket      fare    cabin embarked boat   body  \\\n0  29.00      0      0     24160  211.3375       B5        S    2    NaN   \n1   0.92      1      2    113781  151.5500  C22 C26        S   11    NaN   \n2   2.00      1      2    113781  151.5500  C22 C26        S  NaN    NaN   \n3  30.00      1      2    113781  151.5500  C22 C26        S  NaN  135.0   \n4  25.00      1      2    113781  151.5500  C22 C26        S  NaN    NaN   \n5  48.00      0      0     19952   26.5500      E12        S    3    NaN   \n6  63.00      1      0     13502   77.9583       D7        S   10    NaN   \n7  39.00      0      0    112050    0.0000      A36        S  NaN    NaN   \n8  53.00      2      0     11769   51.4792     C101        S    D    NaN   \n9  71.00      0      0  PC 17609   49.5042      NaN        C  NaN   22.0   \n\n                         home.dest  \n0                     St Louis, MO  \n1  Montreal, PQ / Chesterville, ON  \n2  Montreal, PQ / Chesterville, ON  \n3  Montreal, PQ / Chesterville, ON  \n4  Montreal, PQ / Chesterville, ON  \n5                     New York, NY  \n6                       Hudson, NY  \n7                      Belfast, NI  \n8              Bayside, Queens, NY  \n9              Montevideo, Uruguay  "
                    },
                    "execution_count": 3,
                    "metadata": {},
                    "output_type": "execute_result"
                }
            ],
            "source": "t.head(10)"
        },
        {
            "cell_type": "code",
            "execution_count": 4,
            "metadata": {
                "colab": {
                    "base_uri": "https://localhost:8080/",
                    "height": 288
                },
                "colab_type": "code",
                "id": "pWaWW_Zm_iNg",
                "outputId": "d732b31c-5bf4-487f-97ab-bc1f87e8c299"
            },
            "outputs": [
                {
                    "data": {
                        "text/html": "<div>\n<style scoped>\n    .dataframe tbody tr th:only-of-type {\n        vertical-align: middle;\n    }\n\n    .dataframe tbody tr th {\n        vertical-align: top;\n    }\n\n    .dataframe thead th {\n        text-align: right;\n    }\n</style>\n<table border=\"1\" class=\"dataframe\">\n  <thead>\n    <tr style=\"text-align: right;\">\n      <th></th>\n      <th>pclass</th>\n      <th>survived</th>\n      <th>age</th>\n      <th>sibsp</th>\n      <th>parch</th>\n      <th>fare</th>\n      <th>body</th>\n    </tr>\n  </thead>\n  <tbody>\n    <tr>\n      <th>count</th>\n      <td>1309.000000</td>\n      <td>1309.000000</td>\n      <td>1046.000000</td>\n      <td>1309.000000</td>\n      <td>1309.000000</td>\n      <td>1308.000000</td>\n      <td>121.000000</td>\n    </tr>\n    <tr>\n      <th>mean</th>\n      <td>2.294882</td>\n      <td>0.381971</td>\n      <td>29.881138</td>\n      <td>0.498854</td>\n      <td>0.385027</td>\n      <td>33.295479</td>\n      <td>160.809917</td>\n    </tr>\n    <tr>\n      <th>std</th>\n      <td>0.837836</td>\n      <td>0.486055</td>\n      <td>14.413493</td>\n      <td>1.041658</td>\n      <td>0.865560</td>\n      <td>51.758668</td>\n      <td>97.696922</td>\n    </tr>\n    <tr>\n      <th>min</th>\n      <td>1.000000</td>\n      <td>0.000000</td>\n      <td>0.170000</td>\n      <td>0.000000</td>\n      <td>0.000000</td>\n      <td>0.000000</td>\n      <td>1.000000</td>\n    </tr>\n    <tr>\n      <th>25%</th>\n      <td>2.000000</td>\n      <td>0.000000</td>\n      <td>21.000000</td>\n      <td>0.000000</td>\n      <td>0.000000</td>\n      <td>7.895800</td>\n      <td>72.000000</td>\n    </tr>\n    <tr>\n      <th>50%</th>\n      <td>3.000000</td>\n      <td>0.000000</td>\n      <td>28.000000</td>\n      <td>0.000000</td>\n      <td>0.000000</td>\n      <td>14.454200</td>\n      <td>155.000000</td>\n    </tr>\n    <tr>\n      <th>75%</th>\n      <td>3.000000</td>\n      <td>1.000000</td>\n      <td>39.000000</td>\n      <td>1.000000</td>\n      <td>0.000000</td>\n      <td>31.275000</td>\n      <td>256.000000</td>\n    </tr>\n    <tr>\n      <th>max</th>\n      <td>3.000000</td>\n      <td>1.000000</td>\n      <td>80.000000</td>\n      <td>8.000000</td>\n      <td>9.000000</td>\n      <td>512.329200</td>\n      <td>328.000000</td>\n    </tr>\n  </tbody>\n</table>\n</div>",
                        "text/plain": "            pclass     survived          age        sibsp        parch  \\\ncount  1309.000000  1309.000000  1046.000000  1309.000000  1309.000000   \nmean      2.294882     0.381971    29.881138     0.498854     0.385027   \nstd       0.837836     0.486055    14.413493     1.041658     0.865560   \nmin       1.000000     0.000000     0.170000     0.000000     0.000000   \n25%       2.000000     0.000000    21.000000     0.000000     0.000000   \n50%       3.000000     0.000000    28.000000     0.000000     0.000000   \n75%       3.000000     1.000000    39.000000     1.000000     0.000000   \nmax       3.000000     1.000000    80.000000     8.000000     9.000000   \n\n              fare        body  \ncount  1308.000000  121.000000  \nmean     33.295479  160.809917  \nstd      51.758668   97.696922  \nmin       0.000000    1.000000  \n25%       7.895800   72.000000  \n50%      14.454200  155.000000  \n75%      31.275000  256.000000  \nmax     512.329200  328.000000  "
                    },
                    "execution_count": 4,
                    "metadata": {},
                    "output_type": "execute_result"
                }
            ],
            "source": "t.describe()"
        },
        {
            "cell_type": "code",
            "execution_count": 5,
            "metadata": {
                "colab": {
                    "base_uri": "https://localhost:8080/",
                    "height": 399
                },
                "colab_type": "code",
                "id": "sN0_nm3X_kX3",
                "outputId": "15f53f9b-256d-413a-8bc9-7641030062e1"
            },
            "outputs": [
                {
                    "name": "stdout",
                    "output_type": "stream",
                    "text": "<class 'pandas.core.frame.DataFrame'>\nRangeIndex: 1309 entries, 0 to 1308\nData columns (total 14 columns):\npclass       1309 non-null int64\nsurvived     1309 non-null int64\nname         1309 non-null object\nsex          1309 non-null object\nage          1046 non-null float64\nsibsp        1309 non-null int64\nparch        1309 non-null int64\nticket       1309 non-null object\nfare         1308 non-null float64\ncabin        295 non-null object\nembarked     1307 non-null object\nboat         486 non-null object\nbody         121 non-null float64\nhome.dest    745 non-null object\ndtypes: float64(3), int64(4), object(7)\nmemory usage: 143.2+ KB\n"
                }
            ],
            "source": "t.info()"
        },
        {
            "cell_type": "code",
            "execution_count": 6,
            "metadata": {
                "colab": {
                    "base_uri": "https://localhost:8080/",
                    "height": 72
                },
                "colab_type": "code",
                "id": "h4JRD6pz_md8",
                "outputId": "a22e27d2-02cf-48c6-c3c3-f712b85eeed8"
            },
            "outputs": [
                {
                    "data": {
                        "text/plain": "Index(['pclass', 'survived', 'name', 'sex', 'age', 'sibsp', 'parch', 'ticket',\n       'fare', 'cabin', 'embarked', 'boat', 'body', 'home.dest'],\n      dtype='object')"
                    },
                    "execution_count": 6,
                    "metadata": {},
                    "output_type": "execute_result"
                }
            ],
            "source": "t.columns"
        },
        {
            "cell_type": "markdown",
            "metadata": {},
            "source": "# Total Survival/ Death Number "
        },
        {
            "cell_type": "code",
            "execution_count": 7,
            "metadata": {
                "colab": {
                    "base_uri": "https://localhost:8080/",
                    "height": 335
                },
                "colab_type": "code",
                "id": "kEO8ef0u_oOD",
                "outputId": "e3ee5676-302f-472b-c463-964abbd052c8"
            },
            "outputs": [
                {
                    "name": "stdout",
                    "output_type": "stream",
                    "text": "0    809\n1    500\nName: survived, dtype: int64\n"
                },
                {
                    "data": {
                        "text/plain": "<matplotlib.axes._subplots.AxesSubplot at 0x7fdf65390be0>"
                    },
                    "execution_count": 7,
                    "metadata": {},
                    "output_type": "execute_result"
                },
                {
                    "data": {
                        "image/png": "[encoded data removed]",
                        "text/plain": "<Figure size 432x288 with 1 Axes>"
                    },
                    "metadata": {
                        "needs_background": "light"
                    },
                    "output_type": "display_data"
                }
            ],
            "source": "s=pd.value_counts(t.survived)\nprint(s)\ns.plot.bar()"
        },
        {
            "cell_type": "code",
            "execution_count": 8,
            "metadata": {
                "colab": {
                    "base_uri": "https://localhost:8080/",
                    "height": 321
                },
                "colab_type": "code",
                "id": "g0jJxQ2H_qmn",
                "outputId": "5b1ef4a6-d53a-4ab0-b504-c215ab41c918"
            },
            "outputs": [
                {
                    "name": "stdout",
                    "output_type": "stream",
                    "text": "male      843\nfemale    466\nName: sex, dtype: int64\n"
                },
                {
                    "data": {
                        "text/plain": "<matplotlib.axes._subplots.AxesSubplot at 0x7fdf65085a58>"
                    },
                    "execution_count": 8,
                    "metadata": {},
                    "output_type": "execute_result"
                },
                {
                    "data": {
                        "image/png": "[encoded data removed]",
                        "text/plain": "<Figure size 432x288 with 1 Axes>"
                    },
                    "metadata": {},
                    "output_type": "display_data"
                }
            ],
            "source": "g=pd.value_counts(t.sex)\nprint(g)\ng.plot.pie()"
        },
        {
            "cell_type": "code",
            "execution_count": 9,
            "metadata": {
                "colab": {
                    "base_uri": "https://localhost:8080/",
                    "height": 126
                },
                "colab_type": "code",
                "id": "2vLFzxaG_vM3",
                "outputId": "a30bd932-6f8a-4f27-b54c-d0964633a73e"
            },
            "outputs": [
                {
                    "name": "stdout",
                    "output_type": "stream",
                    "text": "False    1148\nTrue      161\ndtype: int64\nFalse    970\nTrue     339\ndtype: int64\n"
                }
            ],
            "source": "m=pd.value_counts((t.sex==\"male\") & (t.survived== 1))\nprint(m)\nf=pd.value_counts((t.sex==\"female\") & (t.survived== 1))\nprint(f)"
        },
        {
            "cell_type": "code",
            "execution_count": 10,
            "metadata": {
                "colab": {
                    "base_uri": "https://localhost:8080/",
                    "height": 266
                },
                "colab_type": "code",
                "id": "23yCUKKj_zjh",
                "outputId": "2b28ca2c-4581-4228-c0ba-1c278fdca387"
            },
            "outputs": [
                {
                    "data": {
                        "text/plain": "<matplotlib.axes._subplots.AxesSubplot at 0x7fdf6505a438>"
                    },
                    "execution_count": 10,
                    "metadata": {},
                    "output_type": "execute_result"
                },
                {
                    "data": {
                        "image/png": "[encoded data removed]",
                        "text/plain": "<Figure size 432x288 with 1 Axes>"
                    },
                    "metadata": {},
                    "output_type": "display_data"
                }
            ],
            "source": "m.plot.pie()"
        },
        {
            "cell_type": "code",
            "execution_count": 11,
            "metadata": {},
            "outputs": [
                {
                    "data": {
                        "text/plain": "<matplotlib.axes._subplots.AxesSubplot at 0x7fdf65019160>"
                    },
                    "execution_count": 11,
                    "metadata": {},
                    "output_type": "execute_result"
                },
                {
                    "data": {
                        "image/png": "[encoded data removed]",
                        "text/plain": "<Figure size 432x288 with 1 Axes>"
                    },
                    "metadata": {},
                    "output_type": "display_data"
                }
            ],
            "source": "f.plot.pie()"
        },
        {
            "cell_type": "markdown",
            "metadata": {},
            "source": "## Survival number of male and female"
        },
        {
            "cell_type": "code",
            "execution_count": 12,
            "metadata": {
                "colab": {
                    "base_uri": "https://localhost:8080/",
                    "height": 138
                },
                "colab_type": "code",
                "id": "DPE5Vksy_2Fz",
                "outputId": "2b03fc4e-6c1c-46fc-e499-197331958aac"
            },
            "outputs": [
                {
                    "data": {
                        "text/html": "<div>\n<style scoped>\n    .dataframe tbody tr th:only-of-type {\n        vertical-align: middle;\n    }\n\n    .dataframe tbody tr th {\n        vertical-align: top;\n    }\n\n    .dataframe thead th {\n        text-align: right;\n    }\n</style>\n<table border=\"1\" class=\"dataframe\">\n  <thead>\n    <tr style=\"text-align: right;\">\n      <th></th>\n      <th>survived</th>\n    </tr>\n    <tr>\n      <th>sex</th>\n      <th></th>\n    </tr>\n  </thead>\n  <tbody>\n    <tr>\n      <th>female</th>\n      <td>339</td>\n    </tr>\n    <tr>\n      <th>male</th>\n      <td>161</td>\n    </tr>\n  </tbody>\n</table>\n</div>",
                        "text/plain": "        survived\nsex             \nfemale       339\nmale         161"
                    },
                    "execution_count": 12,
                    "metadata": {},
                    "output_type": "execute_result"
                }
            ],
            "source": "s=t[[\"sex\", \"survived\"]].groupby(\"sex\").sum()\ns"
        },
        {
            "cell_type": "code",
            "execution_count": 13,
            "metadata": {
                "colab": {
                    "base_uri": "https://localhost:8080/",
                    "height": 322
                },
                "colab_type": "code",
                "id": "TGrwkHryAPSf",
                "outputId": "94f95cd4-2d5b-4e01-a7fa-ea363084c879"
            },
            "outputs": [
                {
                    "data": {
                        "text/plain": "<matplotlib.axes._subplots.AxesSubplot at 0x7fdf64fdc0f0>"
                    },
                    "execution_count": 13,
                    "metadata": {},
                    "output_type": "execute_result"
                },
                {
                    "data": {
                        "image/png": "[encoded data removed]",
                        "text/plain": "<Figure size 432x288 with 1 Axes>"
                    },
                    "metadata": {
                        "needs_background": "light"
                    },
                    "output_type": "display_data"
                }
            ],
            "source": "s.plot.bar()"
        },
        {
            "cell_type": "code",
            "execution_count": 14,
            "metadata": {
                "colab": {
                    "base_uri": "https://localhost:8080/",
                    "height": 290
                },
                "colab_type": "code",
                "id": "ckWzOJS8ATTa",
                "outputId": "25e6807b-1906-43eb-debb-1070feae18e6"
            },
            "outputs": [
                {
                    "data": {
                        "text/plain": "pclass          0\nsurvived        0\nname            0\nsex             0\nage           263\nsibsp           0\nparch           0\nticket          0\nfare            1\ncabin        1014\nembarked        2\nboat          823\nbody         1188\nhome.dest     564\ndtype: int64"
                    },
                    "execution_count": 14,
                    "metadata": {},
                    "output_type": "execute_result"
                }
            ],
            "source": "t.isnull().sum()"
        },
        {
            "cell_type": "markdown",
            "metadata": {},
            "source": "## Bar charts to see survival according the features "
        },
        {
            "cell_type": "code",
            "execution_count": 15,
            "metadata": {
                "colab": {},
                "colab_type": "code",
                "id": "YxEufAX-Abx2"
            },
            "outputs": [],
            "source": "def bar_chart(feature):\n    survived = t[t['survived']==1][feature].value_counts()\n    dead = t[t['survived']==0][feature].value_counts()\n    df = pd.DataFrame([survived,dead])\n    df.index = ['survived','dead']\n    df.plot(kind='bar',stacked=True, figsize=(10,5))"
        },
        {
            "cell_type": "code",
            "execution_count": 16,
            "metadata": {
                "colab": {
                    "base_uri": "https://localhost:8080/",
                    "height": 353
                },
                "colab_type": "code",
                "id": "JBBhlpbQAjQb",
                "outputId": "339adb78-260e-4939-86e9-a22f31adcee3"
            },
            "outputs": [
                {
                    "data": {
                        "image/png": "[encoded data removed]",
                        "text/plain": "<Figure size 720x360 with 1 Axes>"
                    },
                    "metadata": {
                        "needs_background": "light"
                    },
                    "output_type": "display_data"
                }
            ],
            "source": "bar_chart('sex')"
        },
        {
            "cell_type": "code",
            "execution_count": 17,
            "metadata": {
                "colab": {
                    "base_uri": "https://localhost:8080/",
                    "height": 353
                },
                "colab_type": "code",
                "id": "JK0BRLLGAlcb",
                "outputId": "e1c8b9a2-a115-4c1b-b838-96d6078b30a2"
            },
            "outputs": [
                {
                    "data": {
                        "image/png": "[encoded data removed]",
                        "text/plain": "<Figure size 720x360 with 1 Axes>"
                    },
                    "metadata": {
                        "needs_background": "light"
                    },
                    "output_type": "display_data"
                }
            ],
            "source": "bar_chart('pclass')"
        },
        {
            "cell_type": "code",
            "execution_count": 18,
            "metadata": {
                "colab": {
                    "base_uri": "https://localhost:8080/",
                    "height": 353
                },
                "colab_type": "code",
                "id": "YMZadFSmAnc5",
                "outputId": "95678f6b-7c6c-4228-b66b-25755f29e3ed"
            },
            "outputs": [
                {
                    "data": {
                        "image/png": "[encoded data removed]",
                        "text/plain": "<Figure size 720x360 with 1 Axes>"
                    },
                    "metadata": {
                        "needs_background": "light"
                    },
                    "output_type": "display_data"
                }
            ],
            "source": "bar_chart('embarked')\n"
        },
        {
            "cell_type": "code",
            "execution_count": 19,
            "metadata": {
                "colab": {
                    "base_uri": "https://localhost:8080/",
                    "height": 353
                },
                "colab_type": "code",
                "id": "ppYLTWtdApub",
                "outputId": "14fbb2ec-2358-4ff9-de7d-a9ed50efc84c"
            },
            "outputs": [
                {
                    "data": {
                        "image/png": "[encoded data removed]",
                        "text/plain": "<Figure size 720x360 with 1 Axes>"
                    },
                    "metadata": {
                        "needs_background": "light"
                    },
                    "output_type": "display_data"
                }
            ],
            "source": "bar_chart('sibsp')"
        },
        {
            "cell_type": "code",
            "execution_count": 20,
            "metadata": {
                "colab": {},
                "colab_type": "code",
                "id": "TObiOsgiArb_"
            },
            "outputs": [],
            "source": "t.rename(columns={'home.dest': 'home_dest'},inplace=True)"
        },
        {
            "cell_type": "markdown",
            "metadata": {},
            "source": "## Violin plot to see male female survival rate according to age"
        },
        {
            "cell_type": "code",
            "execution_count": 21,
            "metadata": {
                "colab": {
                    "base_uri": "https://localhost:8080/",
                    "height": 297
                },
                "colab_type": "code",
                "id": "anNnLkW7AtnE",
                "outputId": "de06ccc5-64e4-41a9-ece4-858bb6ea7131"
            },
            "outputs": [
                {
                    "data": {
                        "text/plain": "<matplotlib.axes._subplots.AxesSubplot at 0x7fdf6538df60>"
                    },
                    "execution_count": 21,
                    "metadata": {},
                    "output_type": "execute_result"
                },
                {
                    "data": {
                        "image/png": "[encoded data removed]",
                        "text/plain": "<Figure size 432x288 with 1 Axes>"
                    },
                    "metadata": {
                        "needs_background": "light"
                    },
                    "output_type": "display_data"
                }
            ],
            "source": "sns.violinplot(x =\"sex\", y =\"age\", hue =\"survived\",  \ndata = t, split = True)"
        },
        {
            "cell_type": "code",
            "execution_count": 22,
            "metadata": {
                "colab": {
                    "base_uri": "https://localhost:8080/",
                    "height": 381
                },
                "colab_type": "code",
                "id": "Vn2-ITOVBOsw",
                "outputId": "2c8bd737-513e-4224-832b-9251f13a3855"
            },
            "outputs": [
                {
                    "data": {
                        "text/plain": "<seaborn.axisgrid.FacetGrid at 0x7fdf64e16198>"
                    },
                    "execution_count": 22,
                    "metadata": {},
                    "output_type": "execute_result"
                },
                {
                    "data": {
                        "image/png": "[encoded data removed]",
                        "text/plain": "<Figure size 1130.88x360 with 3 Axes>"
                    },
                    "metadata": {
                        "needs_background": "light"
                    },
                    "output_type": "display_data"
                }
            ],
            "source": "# Countplot \nsns.catplot(x ='embarked', hue ='survived',  \nkind ='count', col ='pclass', data = t) "
        },
        {
            "cell_type": "code",
            "execution_count": 23,
            "metadata": {
                "colab": {
                    "base_uri": "https://localhost:8080/",
                    "height": 168
                },
                "colab_type": "code",
                "id": "FBrn5nTYBeVp",
                "outputId": "53a36cfc-3c07-4a5d-ebb7-36398848228a"
            },
            "outputs": [
                {
                    "data": {
                        "text/html": "<div>\n<style scoped>\n    .dataframe tbody tr th:only-of-type {\n        vertical-align: middle;\n    }\n\n    .dataframe tbody tr th {\n        vertical-align: top;\n    }\n\n    .dataframe thead th {\n        text-align: right;\n    }\n</style>\n<table border=\"1\" class=\"dataframe\">\n  <thead>\n    <tr style=\"text-align: right;\">\n      <th></th>\n      <th>survived</th>\n    </tr>\n    <tr>\n      <th>pclass</th>\n      <th></th>\n    </tr>\n  </thead>\n  <tbody>\n    <tr>\n      <th>1</th>\n      <td>200</td>\n    </tr>\n    <tr>\n      <th>2</th>\n      <td>119</td>\n    </tr>\n    <tr>\n      <th>3</th>\n      <td>181</td>\n    </tr>\n  </tbody>\n</table>\n</div>",
                        "text/plain": "        survived\npclass          \n1            200\n2            119\n3            181"
                    },
                    "execution_count": 23,
                    "metadata": {},
                    "output_type": "execute_result"
                }
            ],
            "source": "s=t[[\"pclass\", \"survived\"]].groupby(\"pclass\").sum()\ns"
        },
        {
            "cell_type": "code",
            "execution_count": 24,
            "metadata": {
                "colab": {
                    "base_uri": "https://localhost:8080/",
                    "height": 295
                },
                "colab_type": "code",
                "id": "bOcDP5-cCJU9",
                "outputId": "322f718a-e1d6-44bb-f736-19fde1856414"
            },
            "outputs": [
                {
                    "data": {
                        "text/plain": "<matplotlib.axes._subplots.AxesSubplot at 0x7fdf64da8be0>"
                    },
                    "execution_count": 24,
                    "metadata": {},
                    "output_type": "execute_result"
                },
                {
                    "data": {
                        "image/png": "[encoded data removed]",
                        "text/plain": "<Figure size 432x288 with 1 Axes>"
                    },
                    "metadata": {
                        "needs_background": "light"
                    },
                    "output_type": "display_data"
                }
            ],
            "source": "s.plot.bar()"
        },
        {
            "cell_type": "code",
            "execution_count": 25,
            "metadata": {
                "colab": {
                    "base_uri": "https://localhost:8080/",
                    "height": 387
                },
                "colab_type": "code",
                "id": "V8ExMBiSCMVs",
                "outputId": "a5bba790-677b-46c2-e17f-c5d9e2954263"
            },
            "outputs": [
                {
                    "data": {
                        "text/plain": "<seaborn.axisgrid.FacetGrid at 0x7fdf64e169b0>"
                    },
                    "execution_count": 25,
                    "metadata": {},
                    "output_type": "execute_result"
                },
                {
                    "data": {
                        "image/png": "[encoded data removed]",
                        "text/plain": "<Figure size 410.875x360 with 1 Axes>"
                    },
                    "metadata": {
                        "needs_background": "light"
                    },
                    "output_type": "display_data"
                }
            ],
            "source": "# Countplot\n#import seaborn as sns\nsns.catplot(x ='pclass', hue ='survived',  \nkind ='count', data = t) "
        },
        {
            "cell_type": "code",
            "execution_count": 26,
            "metadata": {
                "colab": {},
                "colab_type": "code",
                "id": "y33piuQsSGyt"
            },
            "outputs": [],
            "source": "data=[t]"
        },
        {
            "cell_type": "code",
            "execution_count": 27,
            "metadata": {
                "colab": {},
                "colab_type": "code",
                "id": "qtGWUIDCThjg"
            },
            "outputs": [],
            "source": "t[\"fare\"].fillna(t.fare.median(), inplace=True)\n#t[\"age\"].fillna(t.age.median(), inplace=True) "
        },
        {
            "cell_type": "code",
            "execution_count": 28,
            "metadata": {
                "colab": {
                    "base_uri": "https://localhost:8080/",
                    "height": 298
                },
                "colab_type": "code",
                "id": "spCfoU-IBInG",
                "outputId": "35fd3413-722d-459d-f4ef-cd7570522224"
            },
            "outputs": [
                {
                    "data": {
                        "text/plain": "<matplotlib.axes._subplots.AxesSubplot at 0x7fdf64f01240>"
                    },
                    "execution_count": 28,
                    "metadata": {},
                    "output_type": "execute_result"
                },
                {
                    "data": {
                        "image/png": "[encoded data removed]",
                        "text/plain": "<Figure size 432x288 with 1 Axes>"
                    },
                    "metadata": {
                        "needs_background": "light"
                    },
                    "output_type": "display_data"
                }
            ],
            "source": "# Divide Fare into 4 bins \nt['Fare_Range'] = pd.qcut(t['fare'], 4) \n  \n# Barplot - Shows approximate values based  \n# on the height of bars. \nsns.barplot(x ='Fare_Range', y ='survived',  \ndata = t) "
        },
        {
            "cell_type": "code",
            "execution_count": 29,
            "metadata": {
                "colab": {},
                "colab_type": "code",
                "id": "wZTsbd6GVBSA"
            },
            "outputs": [],
            "source": "for dataset in data:\n    dataset.loc[ dataset['fare'] <= 7.8, 'fare'] = 0,\n    dataset.loc[(dataset['fare'] > 7.8) & (dataset['fare'] <= 14.4), 'fare'] = 1,\n    dataset.loc[(dataset['fare'] > 14.4) & (dataset['fare'] <= 31.3), 'fare'] = 2,\n    dataset.loc[ dataset['fare'] > 31.3, 'fare'] = 3"
        },
        {
            "cell_type": "code",
            "execution_count": 30,
            "metadata": {
                "colab": {
                    "base_uri": "https://localhost:8080/",
                    "height": 353
                },
                "colab_type": "code",
                "id": "4QbTOnF3Xho3",
                "outputId": "3b34cb33-e187-494d-cfab-8cde350ece15"
            },
            "outputs": [
                {
                    "data": {
                        "image/png": "[encoded data removed]",
                        "text/plain": "<Figure size 720x360 with 1 Axes>"
                    },
                    "metadata": {
                        "needs_background": "light"
                    },
                    "output_type": "display_data"
                }
            ],
            "source": "bar_chart('fare')"
        },
        {
            "cell_type": "code",
            "execution_count": 31,
            "metadata": {
                "colab": {
                    "base_uri": "https://localhost:8080/",
                    "height": 308
                },
                "colab_type": "code",
                "id": "_t_7cEtRC5jN",
                "outputId": "d75bf61f-8ef0-429d-e159-b32e5ab5d236"
            },
            "outputs": [
                {
                    "data": {
                        "text/plain": "pclass           0\nsurvived         0\nname             0\nsex              0\nage            263\nsibsp            0\nparch            0\nticket           0\nfare             0\ncabin         1014\nembarked         2\nboat           823\nbody          1188\nhome_dest      564\nFare_Range       0\ndtype: int64"
                    },
                    "execution_count": 31,
                    "metadata": {},
                    "output_type": "execute_result"
                }
            ],
            "source": "t.isnull().sum()"
        },
        {
            "cell_type": "markdown",
            "metadata": {},
            "source": "## Fill Blank rows of age with median value and categorize age with defining age range "
        },
        {
            "cell_type": "code",
            "execution_count": 32,
            "metadata": {
                "colab": {
                    "base_uri": "https://localhost:8080/",
                    "height": 35
                },
                "colab_type": "code",
                "id": "syadfZ05BYX5",
                "outputId": "57a0e38a-b595-4615-a8d1-0c65a510afb6"
            },
            "outputs": [
                {
                    "data": {
                        "text/plain": "28.0"
                    },
                    "execution_count": 32,
                    "metadata": {},
                    "output_type": "execute_result"
                }
            ],
            "source": "t.age.median()"
        },
        {
            "cell_type": "code",
            "execution_count": 33,
            "metadata": {
                "colab": {},
                "colab_type": "code",
                "id": "l_q3kY7jBbqC"
            },
            "outputs": [],
            "source": "t[\"age\"].fillna(t.age.median(), inplace=True) "
        },
        {
            "cell_type": "code",
            "execution_count": 34,
            "metadata": {
                "colab": {},
                "colab_type": "code",
                "id": "cA_P803wJOgo"
            },
            "outputs": [],
            "source": "\nfor dataset in data:\n    dataset.loc[ dataset['age'] <= 17, 'age'] = 0,\n    dataset.loc[(dataset['age'] > 17) & (dataset['age'] <= 26), 'age'] = 1,\n    dataset.loc[(dataset['age'] > 26) & (dataset['age'] <= 34), 'age'] = 2,\n    dataset.loc[(dataset['age'] > 34) & (dataset['age'] <= 42), 'age'] = 3,\n    dataset.loc[(dataset['age'] > 42) & (dataset['age'] <= 55), 'age'] = 4,\n    dataset.loc[(dataset['age'] > 55) & (dataset['age'] <= 63), 'age'] = 5,\n    dataset.loc[ dataset['age'] > 63, 'age'] = 6"
        },
        {
            "cell_type": "code",
            "execution_count": 35,
            "metadata": {
                "colab": {
                    "base_uri": "https://localhost:8080/",
                    "height": 353
                },
                "colab_type": "code",
                "id": "OuaKBEvES4VB",
                "outputId": "dffaf26b-3d4c-479f-89ef-4a232350c10e"
            },
            "outputs": [
                {
                    "data": {
                        "image/png": "[encoded data removed]",
                        "text/plain": "<Figure size 720x360 with 1 Axes>"
                    },
                    "metadata": {
                        "needs_background": "light"
                    },
                    "output_type": "display_data"
                }
            ],
            "source": "bar_chart('age')"
        },
        {
            "cell_type": "markdown",
            "metadata": {},
            "source": "## replace embarked with numeric value"
        },
        {
            "cell_type": "code",
            "execution_count": 36,
            "metadata": {
                "colab": {},
                "colab_type": "code",
                "id": "klWJWDWMEadv"
            },
            "outputs": [],
            "source": "for dataset in data:\n    dataset['embarked'] = dataset['embarked'].fillna('S')"
        },
        {
            "cell_type": "code",
            "execution_count": 37,
            "metadata": {
                "colab": {},
                "colab_type": "code",
                "id": "XGYjHmUlGeW7"
            },
            "outputs": [],
            "source": "embarked_mapping = {\"S\": 0, \"C\": 1, \"Q\": 2}\nfor dataset in data:\n    dataset['embarked'] = dataset['embarked'].map(embarked_mapping)"
        },
        {
            "cell_type": "code",
            "execution_count": 38,
            "metadata": {
                "colab": {
                    "base_uri": "https://localhost:8080/",
                    "height": 308
                },
                "colab_type": "code",
                "id": "P6900XfQEpQd",
                "outputId": "c8ed1582-9df3-4896-8618-ecdbd7d65a00"
            },
            "outputs": [
                {
                    "data": {
                        "text/plain": "pclass           0\nsurvived         0\nname             0\nsex              0\nage              0\nsibsp            0\nparch            0\nticket           0\nfare             0\ncabin         1014\nembarked         0\nboat           823\nbody          1188\nhome_dest      564\nFare_Range       0\ndtype: int64"
                    },
                    "execution_count": 38,
                    "metadata": {},
                    "output_type": "execute_result"
                }
            ],
            "source": "t.isnull().sum()"
        },
        {
            "cell_type": "code",
            "execution_count": 39,
            "metadata": {
                "colab": {},
                "colab_type": "code",
                "id": "bqxby0tLLNkE"
            },
            "outputs": [],
            "source": "\nfor dataset in data:\n    dataset['title'] = dataset['name'].str.extract(' ([A-Za-z]+)\\.', expand=False)"
        },
        {
            "cell_type": "code",
            "execution_count": 40,
            "metadata": {
                "colab": {
                    "base_uri": "https://localhost:8080/",
                    "height": 363
                },
                "colab_type": "code",
                "id": "pyJaNr8XLZ7e",
                "outputId": "227e4350-3c04-4103-96d4-4d5b3b1f5054"
            },
            "outputs": [
                {
                    "data": {
                        "text/plain": "Mr          757\nMiss        260\nMrs         197\nMaster       61\nRev           8\nDr            8\nCol           4\nMajor         2\nMs            2\nMlle          2\nCountess      1\nCapt          1\nDon           1\nJonkheer      1\nDona          1\nMme           1\nLady          1\nSir           1\nName: title, dtype: int64"
                    },
                    "execution_count": 40,
                    "metadata": {},
                    "output_type": "execute_result"
                }
            ],
            "source": "t['title'].value_counts()"
        },
        {
            "cell_type": "code",
            "execution_count": 41,
            "metadata": {
                "colab": {},
                "colab_type": "code",
                "id": "YSgYl7M-LjXf"
            },
            "outputs": [],
            "source": "title_mapping = {\"Mr\": 0, \"Miss\": 1, \"Mrs\": 2, \n                 \"Master\": 3, \"Dr\": 3, \"Rev\": 3, \"Col\": 3, \"Major\": 3, \"Mlle\": 3,\"Countess\": 3,\n                 \"Ms\": 3, \"Lady\": 3, \"Jonkheer\": 3, \"Don\": 3, \"Dona\" : 3, \"Mme\": 3,\"Capt\": 3,\"Sir\": 3 }\nfor dataset in data:\n    dataset['title'] = dataset['title'].map(title_mapping)"
        },
        {
            "cell_type": "code",
            "execution_count": 42,
            "metadata": {
                "colab": {
                    "base_uri": "https://localhost:8080/",
                    "height": 354
                },
                "colab_type": "code",
                "id": "Cth40qWaQHSg",
                "outputId": "0f6c3522-fe2b-42d1-90a8-5f5f44eb1e67"
            },
            "outputs": [
                {
                    "data": {
                        "text/html": "<div>\n<style scoped>\n    .dataframe tbody tr th:only-of-type {\n        vertical-align: middle;\n    }\n\n    .dataframe tbody tr th {\n        vertical-align: top;\n    }\n\n    .dataframe thead th {\n        text-align: right;\n    }\n</style>\n<table border=\"1\" class=\"dataframe\">\n  <thead>\n    <tr style=\"text-align: right;\">\n      <th></th>\n      <th>pclass</th>\n      <th>survived</th>\n      <th>name</th>\n      <th>sex</th>\n      <th>age</th>\n      <th>sibsp</th>\n      <th>parch</th>\n      <th>ticket</th>\n      <th>fare</th>\n      <th>cabin</th>\n      <th>embarked</th>\n      <th>boat</th>\n      <th>body</th>\n      <th>home_dest</th>\n      <th>Fare_Range</th>\n      <th>title</th>\n    </tr>\n  </thead>\n  <tbody>\n    <tr>\n      <th>0</th>\n      <td>1</td>\n      <td>1</td>\n      <td>Allen, Miss. Elisabeth Walton</td>\n      <td>female</td>\n      <td>2.0</td>\n      <td>0</td>\n      <td>0</td>\n      <td>24160</td>\n      <td>3.0</td>\n      <td>B5</td>\n      <td>0</td>\n      <td>2</td>\n      <td>NaN</td>\n      <td>St Louis, MO</td>\n      <td>(31.275, 512.329]</td>\n      <td>1</td>\n    </tr>\n    <tr>\n      <th>1</th>\n      <td>1</td>\n      <td>1</td>\n      <td>Allison, Master. Hudson Trevor</td>\n      <td>male</td>\n      <td>0.0</td>\n      <td>1</td>\n      <td>2</td>\n      <td>113781</td>\n      <td>3.0</td>\n      <td>C22 C26</td>\n      <td>0</td>\n      <td>11</td>\n      <td>NaN</td>\n      <td>Montreal, PQ / Chesterville, ON</td>\n      <td>(31.275, 512.329]</td>\n      <td>3</td>\n    </tr>\n    <tr>\n      <th>2</th>\n      <td>1</td>\n      <td>0</td>\n      <td>Allison, Miss. Helen Loraine</td>\n      <td>female</td>\n      <td>0.0</td>\n      <td>1</td>\n      <td>2</td>\n      <td>113781</td>\n      <td>3.0</td>\n      <td>C22 C26</td>\n      <td>0</td>\n      <td>NaN</td>\n      <td>NaN</td>\n      <td>Montreal, PQ / Chesterville, ON</td>\n      <td>(31.275, 512.329]</td>\n      <td>1</td>\n    </tr>\n    <tr>\n      <th>3</th>\n      <td>1</td>\n      <td>0</td>\n      <td>Allison, Mr. Hudson Joshua Creighton</td>\n      <td>male</td>\n      <td>2.0</td>\n      <td>1</td>\n      <td>2</td>\n      <td>113781</td>\n      <td>3.0</td>\n      <td>C22 C26</td>\n      <td>0</td>\n      <td>NaN</td>\n      <td>135.0</td>\n      <td>Montreal, PQ / Chesterville, ON</td>\n      <td>(31.275, 512.329]</td>\n      <td>0</td>\n    </tr>\n    <tr>\n      <th>4</th>\n      <td>1</td>\n      <td>0</td>\n      <td>Allison, Mrs. Hudson J C (Bessie Waldo Daniels)</td>\n      <td>female</td>\n      <td>1.0</td>\n      <td>1</td>\n      <td>2</td>\n      <td>113781</td>\n      <td>3.0</td>\n      <td>C22 C26</td>\n      <td>0</td>\n      <td>NaN</td>\n      <td>NaN</td>\n      <td>Montreal, PQ / Chesterville, ON</td>\n      <td>(31.275, 512.329]</td>\n      <td>2</td>\n    </tr>\n  </tbody>\n</table>\n</div>",
                        "text/plain": "   pclass  survived                                             name     sex  \\\n0       1         1                    Allen, Miss. Elisabeth Walton  female   \n1       1         1                   Allison, Master. Hudson Trevor    male   \n2       1         0                     Allison, Miss. Helen Loraine  female   \n3       1         0             Allison, Mr. Hudson Joshua Creighton    male   \n4       1         0  Allison, Mrs. Hudson J C (Bessie Waldo Daniels)  female   \n\n   age  sibsp  parch  ticket  fare    cabin  embarked boat   body  \\\n0  2.0      0      0   24160   3.0       B5         0    2    NaN   \n1  0.0      1      2  113781   3.0  C22 C26         0   11    NaN   \n2  0.0      1      2  113781   3.0  C22 C26         0  NaN    NaN   \n3  2.0      1      2  113781   3.0  C22 C26         0  NaN  135.0   \n4  1.0      1      2  113781   3.0  C22 C26         0  NaN    NaN   \n\n                         home_dest         Fare_Range  title  \n0                     St Louis, MO  (31.275, 512.329]      1  \n1  Montreal, PQ / Chesterville, ON  (31.275, 512.329]      3  \n2  Montreal, PQ / Chesterville, ON  (31.275, 512.329]      1  \n3  Montreal, PQ / Chesterville, ON  (31.275, 512.329]      0  \n4  Montreal, PQ / Chesterville, ON  (31.275, 512.329]      2  "
                    },
                    "execution_count": 42,
                    "metadata": {},
                    "output_type": "execute_result"
                }
            ],
            "source": "t.head()"
        },
        {
            "cell_type": "code",
            "execution_count": 43,
            "metadata": {
                "colab": {
                    "base_uri": "https://localhost:8080/",
                    "height": 353
                },
                "colab_type": "code",
                "id": "ShRYRqArQMFh",
                "outputId": "d5c7ba7a-5b1e-41c8-f981-7998ac1bcb8a"
            },
            "outputs": [
                {
                    "data": {
                        "image/png": "[encoded data removed]",
                        "text/plain": "<Figure size 720x360 with 1 Axes>"
                    },
                    "metadata": {
                        "needs_background": "light"
                    },
                    "output_type": "display_data"
                }
            ],
            "source": "bar_chart('title')"
        },
        {
            "cell_type": "code",
            "execution_count": 44,
            "metadata": {
                "colab": {},
                "colab_type": "code",
                "id": "93XEMI9lQxk6"
            },
            "outputs": [],
            "source": "t.drop('name', axis=1, inplace=True)\n"
        },
        {
            "cell_type": "code",
            "execution_count": 45,
            "metadata": {
                "colab": {
                    "base_uri": "https://localhost:8080/",
                    "height": 198
                },
                "colab_type": "code",
                "id": "zh4sNzqQRDly",
                "outputId": "5b382026-e5c8-4c2a-e248-cae8bcd3a416"
            },
            "outputs": [
                {
                    "data": {
                        "text/html": "<div>\n<style scoped>\n    .dataframe tbody tr th:only-of-type {\n        vertical-align: middle;\n    }\n\n    .dataframe tbody tr th {\n        vertical-align: top;\n    }\n\n    .dataframe thead th {\n        text-align: right;\n    }\n</style>\n<table border=\"1\" class=\"dataframe\">\n  <thead>\n    <tr style=\"text-align: right;\">\n      <th></th>\n      <th>pclass</th>\n      <th>survived</th>\n      <th>sex</th>\n      <th>age</th>\n      <th>sibsp</th>\n      <th>parch</th>\n      <th>ticket</th>\n      <th>fare</th>\n      <th>cabin</th>\n      <th>embarked</th>\n      <th>boat</th>\n      <th>body</th>\n      <th>home_dest</th>\n      <th>Fare_Range</th>\n      <th>title</th>\n    </tr>\n  </thead>\n  <tbody>\n    <tr>\n      <th>0</th>\n      <td>1</td>\n      <td>1</td>\n      <td>female</td>\n      <td>2.0</td>\n      <td>0</td>\n      <td>0</td>\n      <td>24160</td>\n      <td>3.0</td>\n      <td>B5</td>\n      <td>0</td>\n      <td>2</td>\n      <td>NaN</td>\n      <td>St Louis, MO</td>\n      <td>(31.275, 512.329]</td>\n      <td>1</td>\n    </tr>\n    <tr>\n      <th>1</th>\n      <td>1</td>\n      <td>1</td>\n      <td>male</td>\n      <td>0.0</td>\n      <td>1</td>\n      <td>2</td>\n      <td>113781</td>\n      <td>3.0</td>\n      <td>C22 C26</td>\n      <td>0</td>\n      <td>11</td>\n      <td>NaN</td>\n      <td>Montreal, PQ / Chesterville, ON</td>\n      <td>(31.275, 512.329]</td>\n      <td>3</td>\n    </tr>\n    <tr>\n      <th>2</th>\n      <td>1</td>\n      <td>0</td>\n      <td>female</td>\n      <td>0.0</td>\n      <td>1</td>\n      <td>2</td>\n      <td>113781</td>\n      <td>3.0</td>\n      <td>C22 C26</td>\n      <td>0</td>\n      <td>NaN</td>\n      <td>NaN</td>\n      <td>Montreal, PQ / Chesterville, ON</td>\n      <td>(31.275, 512.329]</td>\n      <td>1</td>\n    </tr>\n    <tr>\n      <th>3</th>\n      <td>1</td>\n      <td>0</td>\n      <td>male</td>\n      <td>2.0</td>\n      <td>1</td>\n      <td>2</td>\n      <td>113781</td>\n      <td>3.0</td>\n      <td>C22 C26</td>\n      <td>0</td>\n      <td>NaN</td>\n      <td>135.0</td>\n      <td>Montreal, PQ / Chesterville, ON</td>\n      <td>(31.275, 512.329]</td>\n      <td>0</td>\n    </tr>\n    <tr>\n      <th>4</th>\n      <td>1</td>\n      <td>0</td>\n      <td>female</td>\n      <td>1.0</td>\n      <td>1</td>\n      <td>2</td>\n      <td>113781</td>\n      <td>3.0</td>\n      <td>C22 C26</td>\n      <td>0</td>\n      <td>NaN</td>\n      <td>NaN</td>\n      <td>Montreal, PQ / Chesterville, ON</td>\n      <td>(31.275, 512.329]</td>\n      <td>2</td>\n    </tr>\n  </tbody>\n</table>\n</div>",
                        "text/plain": "   pclass  survived     sex  age  sibsp  parch  ticket  fare    cabin  \\\n0       1         1  female  2.0      0      0   24160   3.0       B5   \n1       1         1    male  0.0      1      2  113781   3.0  C22 C26   \n2       1         0  female  0.0      1      2  113781   3.0  C22 C26   \n3       1         0    male  2.0      1      2  113781   3.0  C22 C26   \n4       1         0  female  1.0      1      2  113781   3.0  C22 C26   \n\n   embarked boat   body                        home_dest         Fare_Range  \\\n0         0    2    NaN                     St Louis, MO  (31.275, 512.329]   \n1         0   11    NaN  Montreal, PQ / Chesterville, ON  (31.275, 512.329]   \n2         0  NaN    NaN  Montreal, PQ / Chesterville, ON  (31.275, 512.329]   \n3         0  NaN  135.0  Montreal, PQ / Chesterville, ON  (31.275, 512.329]   \n4         0  NaN    NaN  Montreal, PQ / Chesterville, ON  (31.275, 512.329]   \n\n   title  \n0      1  \n1      3  \n2      1  \n3      0  \n4      2  "
                    },
                    "execution_count": 45,
                    "metadata": {},
                    "output_type": "execute_result"
                }
            ],
            "source": "t.head()"
        },
        {
            "cell_type": "code",
            "execution_count": 46,
            "metadata": {
                "colab": {},
                "colab_type": "code",
                "id": "zfPG6yhaRWEd"
            },
            "outputs": [],
            "source": "sex_mapping = {\"male\": 0, \"female\": 1}\nfor dataset in data:\n    dataset['sex'] = dataset['sex'].map(sex_mapping)"
        },
        {
            "cell_type": "code",
            "execution_count": 47,
            "metadata": {
                "colab": {
                    "base_uri": "https://localhost:8080/",
                    "height": 198
                },
                "colab_type": "code",
                "id": "Md-mBe1HRfSH",
                "outputId": "612f3b3c-9710-4d18-d89d-f658637a21c0"
            },
            "outputs": [
                {
                    "data": {
                        "text/html": "<div>\n<style scoped>\n    .dataframe tbody tr th:only-of-type {\n        vertical-align: middle;\n    }\n\n    .dataframe tbody tr th {\n        vertical-align: top;\n    }\n\n    .dataframe thead th {\n        text-align: right;\n    }\n</style>\n<table border=\"1\" class=\"dataframe\">\n  <thead>\n    <tr style=\"text-align: right;\">\n      <th></th>\n      <th>pclass</th>\n      <th>survived</th>\n      <th>sex</th>\n      <th>age</th>\n      <th>sibsp</th>\n      <th>parch</th>\n      <th>ticket</th>\n      <th>fare</th>\n      <th>cabin</th>\n      <th>embarked</th>\n      <th>boat</th>\n      <th>body</th>\n      <th>home_dest</th>\n      <th>Fare_Range</th>\n      <th>title</th>\n    </tr>\n  </thead>\n  <tbody>\n    <tr>\n      <th>0</th>\n      <td>1</td>\n      <td>1</td>\n      <td>1</td>\n      <td>2.0</td>\n      <td>0</td>\n      <td>0</td>\n      <td>24160</td>\n      <td>3.0</td>\n      <td>B5</td>\n      <td>0</td>\n      <td>2</td>\n      <td>NaN</td>\n      <td>St Louis, MO</td>\n      <td>(31.275, 512.329]</td>\n      <td>1</td>\n    </tr>\n    <tr>\n      <th>1</th>\n      <td>1</td>\n      <td>1</td>\n      <td>0</td>\n      <td>0.0</td>\n      <td>1</td>\n      <td>2</td>\n      <td>113781</td>\n      <td>3.0</td>\n      <td>C22 C26</td>\n      <td>0</td>\n      <td>11</td>\n      <td>NaN</td>\n      <td>Montreal, PQ / Chesterville, ON</td>\n      <td>(31.275, 512.329]</td>\n      <td>3</td>\n    </tr>\n    <tr>\n      <th>2</th>\n      <td>1</td>\n      <td>0</td>\n      <td>1</td>\n      <td>0.0</td>\n      <td>1</td>\n      <td>2</td>\n      <td>113781</td>\n      <td>3.0</td>\n      <td>C22 C26</td>\n      <td>0</td>\n      <td>NaN</td>\n      <td>NaN</td>\n      <td>Montreal, PQ / Chesterville, ON</td>\n      <td>(31.275, 512.329]</td>\n      <td>1</td>\n    </tr>\n    <tr>\n      <th>3</th>\n      <td>1</td>\n      <td>0</td>\n      <td>0</td>\n      <td>2.0</td>\n      <td>1</td>\n      <td>2</td>\n      <td>113781</td>\n      <td>3.0</td>\n      <td>C22 C26</td>\n      <td>0</td>\n      <td>NaN</td>\n      <td>135.0</td>\n      <td>Montreal, PQ / Chesterville, ON</td>\n      <td>(31.275, 512.329]</td>\n      <td>0</td>\n    </tr>\n    <tr>\n      <th>4</th>\n      <td>1</td>\n      <td>0</td>\n      <td>1</td>\n      <td>1.0</td>\n      <td>1</td>\n      <td>2</td>\n      <td>113781</td>\n      <td>3.0</td>\n      <td>C22 C26</td>\n      <td>0</td>\n      <td>NaN</td>\n      <td>NaN</td>\n      <td>Montreal, PQ / Chesterville, ON</td>\n      <td>(31.275, 512.329]</td>\n      <td>2</td>\n    </tr>\n  </tbody>\n</table>\n</div>",
                        "text/plain": "   pclass  survived  sex  age  sibsp  parch  ticket  fare    cabin  embarked  \\\n0       1         1    1  2.0      0      0   24160   3.0       B5         0   \n1       1         1    0  0.0      1      2  113781   3.0  C22 C26         0   \n2       1         0    1  0.0      1      2  113781   3.0  C22 C26         0   \n3       1         0    0  2.0      1      2  113781   3.0  C22 C26         0   \n4       1         0    1  1.0      1      2  113781   3.0  C22 C26         0   \n\n  boat   body                        home_dest         Fare_Range  title  \n0    2    NaN                     St Louis, MO  (31.275, 512.329]      1  \n1   11    NaN  Montreal, PQ / Chesterville, ON  (31.275, 512.329]      3  \n2  NaN    NaN  Montreal, PQ / Chesterville, ON  (31.275, 512.329]      1  \n3  NaN  135.0  Montreal, PQ / Chesterville, ON  (31.275, 512.329]      0  \n4  NaN    NaN  Montreal, PQ / Chesterville, ON  (31.275, 512.329]      2  "
                    },
                    "execution_count": 47,
                    "metadata": {},
                    "output_type": "execute_result"
                }
            ],
            "source": "t.head()"
        },
        {
            "cell_type": "code",
            "execution_count": 48,
            "metadata": {
                "colab": {},
                "colab_type": "code",
                "id": "Lr2xCDSMc1gy"
            },
            "outputs": [],
            "source": "t[\"body\"].fillna(0, inplace=True)"
        },
        {
            "cell_type": "code",
            "execution_count": 49,
            "metadata": {
                "colab": {},
                "colab_type": "code",
                "id": "dxArpN8zRigU"
            },
            "outputs": [],
            "source": "t[\"body\"]=t[\"body\"].apply(lambda x: 1 if x!=0 else 0)\n"
        },
        {
            "cell_type": "code",
            "execution_count": 50,
            "metadata": {
                "colab": {
                    "base_uri": "https://localhost:8080/",
                    "height": 198
                },
                "colab_type": "code",
                "id": "ShjpshhtYYGJ",
                "outputId": "b618af63-4737-4220-d8d1-d9dc31917fe4"
            },
            "outputs": [
                {
                    "data": {
                        "text/html": "<div>\n<style scoped>\n    .dataframe tbody tr th:only-of-type {\n        vertical-align: middle;\n    }\n\n    .dataframe tbody tr th {\n        vertical-align: top;\n    }\n\n    .dataframe thead th {\n        text-align: right;\n    }\n</style>\n<table border=\"1\" class=\"dataframe\">\n  <thead>\n    <tr style=\"text-align: right;\">\n      <th></th>\n      <th>pclass</th>\n      <th>survived</th>\n      <th>sex</th>\n      <th>age</th>\n      <th>sibsp</th>\n      <th>parch</th>\n      <th>ticket</th>\n      <th>fare</th>\n      <th>cabin</th>\n      <th>embarked</th>\n      <th>boat</th>\n      <th>body</th>\n      <th>home_dest</th>\n      <th>Fare_Range</th>\n      <th>title</th>\n    </tr>\n  </thead>\n  <tbody>\n    <tr>\n      <th>0</th>\n      <td>1</td>\n      <td>1</td>\n      <td>1</td>\n      <td>2.0</td>\n      <td>0</td>\n      <td>0</td>\n      <td>24160</td>\n      <td>3.0</td>\n      <td>B5</td>\n      <td>0</td>\n      <td>2</td>\n      <td>0</td>\n      <td>St Louis, MO</td>\n      <td>(31.275, 512.329]</td>\n      <td>1</td>\n    </tr>\n    <tr>\n      <th>1</th>\n      <td>1</td>\n      <td>1</td>\n      <td>0</td>\n      <td>0.0</td>\n      <td>1</td>\n      <td>2</td>\n      <td>113781</td>\n      <td>3.0</td>\n      <td>C22 C26</td>\n      <td>0</td>\n      <td>11</td>\n      <td>0</td>\n      <td>Montreal, PQ / Chesterville, ON</td>\n      <td>(31.275, 512.329]</td>\n      <td>3</td>\n    </tr>\n    <tr>\n      <th>2</th>\n      <td>1</td>\n      <td>0</td>\n      <td>1</td>\n      <td>0.0</td>\n      <td>1</td>\n      <td>2</td>\n      <td>113781</td>\n      <td>3.0</td>\n      <td>C22 C26</td>\n      <td>0</td>\n      <td>NaN</td>\n      <td>0</td>\n      <td>Montreal, PQ / Chesterville, ON</td>\n      <td>(31.275, 512.329]</td>\n      <td>1</td>\n    </tr>\n    <tr>\n      <th>3</th>\n      <td>1</td>\n      <td>0</td>\n      <td>0</td>\n      <td>2.0</td>\n      <td>1</td>\n      <td>2</td>\n      <td>113781</td>\n      <td>3.0</td>\n      <td>C22 C26</td>\n      <td>0</td>\n      <td>NaN</td>\n      <td>1</td>\n      <td>Montreal, PQ / Chesterville, ON</td>\n      <td>(31.275, 512.329]</td>\n      <td>0</td>\n    </tr>\n    <tr>\n      <th>4</th>\n      <td>1</td>\n      <td>0</td>\n      <td>1</td>\n      <td>1.0</td>\n      <td>1</td>\n      <td>2</td>\n      <td>113781</td>\n      <td>3.0</td>\n      <td>C22 C26</td>\n      <td>0</td>\n      <td>NaN</td>\n      <td>0</td>\n      <td>Montreal, PQ / Chesterville, ON</td>\n      <td>(31.275, 512.329]</td>\n      <td>2</td>\n    </tr>\n  </tbody>\n</table>\n</div>",
                        "text/plain": "   pclass  survived  sex  age  sibsp  parch  ticket  fare    cabin  embarked  \\\n0       1         1    1  2.0      0      0   24160   3.0       B5         0   \n1       1         1    0  0.0      1      2  113781   3.0  C22 C26         0   \n2       1         0    1  0.0      1      2  113781   3.0  C22 C26         0   \n3       1         0    0  2.0      1      2  113781   3.0  C22 C26         0   \n4       1         0    1  1.0      1      2  113781   3.0  C22 C26         0   \n\n  boat  body                        home_dest         Fare_Range  title  \n0    2     0                     St Louis, MO  (31.275, 512.329]      1  \n1   11     0  Montreal, PQ / Chesterville, ON  (31.275, 512.329]      3  \n2  NaN     0  Montreal, PQ / Chesterville, ON  (31.275, 512.329]      1  \n3  NaN     1  Montreal, PQ / Chesterville, ON  (31.275, 512.329]      0  \n4  NaN     0  Montreal, PQ / Chesterville, ON  (31.275, 512.329]      2  "
                    },
                    "execution_count": 50,
                    "metadata": {},
                    "output_type": "execute_result"
                }
            ],
            "source": "t.head()"
        },
        {
            "cell_type": "code",
            "execution_count": 51,
            "metadata": {
                "colab": {},
                "colab_type": "code",
                "id": "aMj7x5ukviZS"
            },
            "outputs": [],
            "source": "for dataset in data:\n    dataset['cabin'] = dataset['cabin'].str[:1]"
        },
        {
            "cell_type": "code",
            "execution_count": 52,
            "metadata": {
                "colab": {},
                "colab_type": "code",
                "id": "343vVddxa0Nc"
            },
            "outputs": [],
            "source": "cabin_mapping = {\"A\": 0, \"B\": 0.4, \"C\": 0.8, \"D\": 1.2, \"E\": 1.6, \"F\": 2, \"G\": 2.4, \"T\": 2.8}\nfor dataset in data:\n    dataset['cabin'] = dataset['cabin'].map(cabin_mapping)"
        },
        {
            "cell_type": "code",
            "execution_count": 53,
            "metadata": {
                "colab": {},
                "colab_type": "code",
                "id": "ZnpULy1daQmG"
            },
            "outputs": [],
            "source": "t[\"cabin\"].fillna(t.cabin.median(), inplace=True)"
        },
        {
            "cell_type": "markdown",
            "metadata": {
                "colab_type": "text",
                "id": "fOLOJzOubExq"
            },
            "source": "Family"
        },
        {
            "cell_type": "code",
            "execution_count": 54,
            "metadata": {
                "colab": {},
                "colab_type": "code",
                "id": "8pvwsD4oafzg"
            },
            "outputs": [],
            "source": "t[\"FamilySize\"] = t[\"sibsp\"] + t[\"parch\"] + 1\n"
        },
        {
            "cell_type": "code",
            "execution_count": 55,
            "metadata": {
                "colab": {
                    "base_uri": "https://localhost:8080/",
                    "height": 199
                },
                "colab_type": "code",
                "id": "FhH8IxXGbI8G",
                "outputId": "42fa5e04-8ed5-4a9f-c50b-50091e7e9266"
            },
            "outputs": [
                {
                    "data": {
                        "text/plain": "1     790\n2     235\n3     159\n4      43\n6      25\n5      22\n7      16\n11     11\n8       8\nName: FamilySize, dtype: int64"
                    },
                    "execution_count": 55,
                    "metadata": {},
                    "output_type": "execute_result"
                }
            ],
            "source": "t.FamilySize.value_counts()"
        },
        {
            "cell_type": "code",
            "execution_count": 56,
            "metadata": {
                "colab": {
                    "base_uri": "https://localhost:8080/",
                    "height": 353
                },
                "colab_type": "code",
                "id": "D_aJ_TqAbWm_",
                "outputId": "d420e7f9-9e30-4f0c-f2db-c114e01e2bca"
            },
            "outputs": [
                {
                    "data": {
                        "image/png": "[encoded data removed]",
                        "text/plain": "<Figure size 720x360 with 1 Axes>"
                    },
                    "metadata": {
                        "needs_background": "light"
                    },
                    "output_type": "display_data"
                }
            ],
            "source": "bar_chart('FamilySize')"
        },
        {
            "cell_type": "code",
            "execution_count": 57,
            "metadata": {
                "colab": {},
                "colab_type": "code",
                "id": "GctJZntHbZHx"
            },
            "outputs": [],
            "source": "family_mapping = {1: 0, 2: 0.4, 3: 0.8, 4: 1.2, 5: 1.6, 6: 2, 7: 2.4, 8: 2.8, 9: 3.2, 10: 3.6, 11: 4}\nfor dataset in data:\n    dataset['FamilySize'] = dataset['FamilySize'].map(family_mapping)"
        },
        {
            "cell_type": "code",
            "execution_count": 58,
            "metadata": {
                "colab": {
                    "base_uri": "https://localhost:8080/",
                    "height": 285
                },
                "colab_type": "code",
                "id": "yr6Wk0KEbdmH",
                "outputId": "0c55bb99-52db-4290-cc82-bc206607fef2"
            },
            "outputs": [
                {
                    "data": {
                        "text/html": "<div>\n<style scoped>\n    .dataframe tbody tr th:only-of-type {\n        vertical-align: middle;\n    }\n\n    .dataframe tbody tr th {\n        vertical-align: top;\n    }\n\n    .dataframe thead th {\n        text-align: right;\n    }\n</style>\n<table border=\"1\" class=\"dataframe\">\n  <thead>\n    <tr style=\"text-align: right;\">\n      <th></th>\n      <th>pclass</th>\n      <th>survived</th>\n      <th>sex</th>\n      <th>age</th>\n      <th>sibsp</th>\n      <th>parch</th>\n      <th>ticket</th>\n      <th>fare</th>\n      <th>cabin</th>\n      <th>embarked</th>\n      <th>boat</th>\n      <th>body</th>\n      <th>home_dest</th>\n      <th>Fare_Range</th>\n      <th>title</th>\n      <th>FamilySize</th>\n    </tr>\n  </thead>\n  <tbody>\n    <tr>\n      <th>0</th>\n      <td>1</td>\n      <td>1</td>\n      <td>1</td>\n      <td>2.0</td>\n      <td>0</td>\n      <td>0</td>\n      <td>24160</td>\n      <td>3.0</td>\n      <td>0.4</td>\n      <td>0</td>\n      <td>2</td>\n      <td>0</td>\n      <td>St Louis, MO</td>\n      <td>(31.275, 512.329]</td>\n      <td>1</td>\n      <td>0.0</td>\n    </tr>\n    <tr>\n      <th>1</th>\n      <td>1</td>\n      <td>1</td>\n      <td>0</td>\n      <td>0.0</td>\n      <td>1</td>\n      <td>2</td>\n      <td>113781</td>\n      <td>3.0</td>\n      <td>0.8</td>\n      <td>0</td>\n      <td>11</td>\n      <td>0</td>\n      <td>Montreal, PQ / Chesterville, ON</td>\n      <td>(31.275, 512.329]</td>\n      <td>3</td>\n      <td>1.2</td>\n    </tr>\n    <tr>\n      <th>2</th>\n      <td>1</td>\n      <td>0</td>\n      <td>1</td>\n      <td>0.0</td>\n      <td>1</td>\n      <td>2</td>\n      <td>113781</td>\n      <td>3.0</td>\n      <td>0.8</td>\n      <td>0</td>\n      <td>NaN</td>\n      <td>0</td>\n      <td>Montreal, PQ / Chesterville, ON</td>\n      <td>(31.275, 512.329]</td>\n      <td>1</td>\n      <td>1.2</td>\n    </tr>\n    <tr>\n      <th>3</th>\n      <td>1</td>\n      <td>0</td>\n      <td>0</td>\n      <td>2.0</td>\n      <td>1</td>\n      <td>2</td>\n      <td>113781</td>\n      <td>3.0</td>\n      <td>0.8</td>\n      <td>0</td>\n      <td>NaN</td>\n      <td>1</td>\n      <td>Montreal, PQ / Chesterville, ON</td>\n      <td>(31.275, 512.329]</td>\n      <td>0</td>\n      <td>1.2</td>\n    </tr>\n    <tr>\n      <th>4</th>\n      <td>1</td>\n      <td>0</td>\n      <td>1</td>\n      <td>1.0</td>\n      <td>1</td>\n      <td>2</td>\n      <td>113781</td>\n      <td>3.0</td>\n      <td>0.8</td>\n      <td>0</td>\n      <td>NaN</td>\n      <td>0</td>\n      <td>Montreal, PQ / Chesterville, ON</td>\n      <td>(31.275, 512.329]</td>\n      <td>2</td>\n      <td>1.2</td>\n    </tr>\n  </tbody>\n</table>\n</div>",
                        "text/plain": "   pclass  survived  sex  age  sibsp  parch  ticket  fare  cabin  embarked  \\\n0       1         1    1  2.0      0      0   24160   3.0    0.4         0   \n1       1         1    0  0.0      1      2  113781   3.0    0.8         0   \n2       1         0    1  0.0      1      2  113781   3.0    0.8         0   \n3       1         0    0  2.0      1      2  113781   3.0    0.8         0   \n4       1         0    1  1.0      1      2  113781   3.0    0.8         0   \n\n  boat  body                        home_dest         Fare_Range  title  \\\n0    2     0                     St Louis, MO  (31.275, 512.329]      1   \n1   11     0  Montreal, PQ / Chesterville, ON  (31.275, 512.329]      3   \n2  NaN     0  Montreal, PQ / Chesterville, ON  (31.275, 512.329]      1   \n3  NaN     1  Montreal, PQ / Chesterville, ON  (31.275, 512.329]      0   \n4  NaN     0  Montreal, PQ / Chesterville, ON  (31.275, 512.329]      2   \n\n   FamilySize  \n0         0.0  \n1         1.2  \n2         1.2  \n3         1.2  \n4         1.2  "
                    },
                    "execution_count": 58,
                    "metadata": {},
                    "output_type": "execute_result"
                }
            ],
            "source": "t.head()"
        },
        {
            "cell_type": "markdown",
            "metadata": {
                "colab_type": "text",
                "id": "KtjpzVYOgcVf"
            },
            "source": "Boat\n"
        },
        {
            "cell_type": "code",
            "execution_count": 59,
            "metadata": {
                "colab": {},
                "colab_type": "code",
                "id": "xvkHhF9ebjop"
            },
            "outputs": [],
            "source": "t[\"boat\"].fillna(0, inplace=True)"
        },
        {
            "cell_type": "code",
            "execution_count": 60,
            "metadata": {
                "colab": {},
                "colab_type": "code",
                "id": "T3vMvGXvgt7r"
            },
            "outputs": [],
            "source": "t[\"boat\"]=t[\"boat\"].apply(lambda x: 1 if x!=0 else 0)\n"
        },
        {
            "cell_type": "code",
            "execution_count": 61,
            "metadata": {
                "colab": {
                    "base_uri": "https://localhost:8080/",
                    "height": 285
                },
                "colab_type": "code",
                "id": "4zgXCTgjg1Yh",
                "outputId": "5ebbb30f-8982-48a7-eb69-9f353d874d8b"
            },
            "outputs": [
                {
                    "data": {
                        "text/html": "<div>\n<style scoped>\n    .dataframe tbody tr th:only-of-type {\n        vertical-align: middle;\n    }\n\n    .dataframe tbody tr th {\n        vertical-align: top;\n    }\n\n    .dataframe thead th {\n        text-align: right;\n    }\n</style>\n<table border=\"1\" class=\"dataframe\">\n  <thead>\n    <tr style=\"text-align: right;\">\n      <th></th>\n      <th>pclass</th>\n      <th>survived</th>\n      <th>sex</th>\n      <th>age</th>\n      <th>sibsp</th>\n      <th>parch</th>\n      <th>ticket</th>\n      <th>fare</th>\n      <th>cabin</th>\n      <th>embarked</th>\n      <th>boat</th>\n      <th>body</th>\n      <th>home_dest</th>\n      <th>Fare_Range</th>\n      <th>title</th>\n      <th>FamilySize</th>\n    </tr>\n  </thead>\n  <tbody>\n    <tr>\n      <th>0</th>\n      <td>1</td>\n      <td>1</td>\n      <td>1</td>\n      <td>2.0</td>\n      <td>0</td>\n      <td>0</td>\n      <td>24160</td>\n      <td>3.0</td>\n      <td>0.4</td>\n      <td>0</td>\n      <td>1</td>\n      <td>0</td>\n      <td>St Louis, MO</td>\n      <td>(31.275, 512.329]</td>\n      <td>1</td>\n      <td>0.0</td>\n    </tr>\n    <tr>\n      <th>1</th>\n      <td>1</td>\n      <td>1</td>\n      <td>0</td>\n      <td>0.0</td>\n      <td>1</td>\n      <td>2</td>\n      <td>113781</td>\n      <td>3.0</td>\n      <td>0.8</td>\n      <td>0</td>\n      <td>1</td>\n      <td>0</td>\n      <td>Montreal, PQ / Chesterville, ON</td>\n      <td>(31.275, 512.329]</td>\n      <td>3</td>\n      <td>1.2</td>\n    </tr>\n    <tr>\n      <th>2</th>\n      <td>1</td>\n      <td>0</td>\n      <td>1</td>\n      <td>0.0</td>\n      <td>1</td>\n      <td>2</td>\n      <td>113781</td>\n      <td>3.0</td>\n      <td>0.8</td>\n      <td>0</td>\n      <td>0</td>\n      <td>0</td>\n      <td>Montreal, PQ / Chesterville, ON</td>\n      <td>(31.275, 512.329]</td>\n      <td>1</td>\n      <td>1.2</td>\n    </tr>\n    <tr>\n      <th>3</th>\n      <td>1</td>\n      <td>0</td>\n      <td>0</td>\n      <td>2.0</td>\n      <td>1</td>\n      <td>2</td>\n      <td>113781</td>\n      <td>3.0</td>\n      <td>0.8</td>\n      <td>0</td>\n      <td>0</td>\n      <td>1</td>\n      <td>Montreal, PQ / Chesterville, ON</td>\n      <td>(31.275, 512.329]</td>\n      <td>0</td>\n      <td>1.2</td>\n    </tr>\n    <tr>\n      <th>4</th>\n      <td>1</td>\n      <td>0</td>\n      <td>1</td>\n      <td>1.0</td>\n      <td>1</td>\n      <td>2</td>\n      <td>113781</td>\n      <td>3.0</td>\n      <td>0.8</td>\n      <td>0</td>\n      <td>0</td>\n      <td>0</td>\n      <td>Montreal, PQ / Chesterville, ON</td>\n      <td>(31.275, 512.329]</td>\n      <td>2</td>\n      <td>1.2</td>\n    </tr>\n  </tbody>\n</table>\n</div>",
                        "text/plain": "   pclass  survived  sex  age  sibsp  parch  ticket  fare  cabin  embarked  \\\n0       1         1    1  2.0      0      0   24160   3.0    0.4         0   \n1       1         1    0  0.0      1      2  113781   3.0    0.8         0   \n2       1         0    1  0.0      1      2  113781   3.0    0.8         0   \n3       1         0    0  2.0      1      2  113781   3.0    0.8         0   \n4       1         0    1  1.0      1      2  113781   3.0    0.8         0   \n\n   boat  body                        home_dest         Fare_Range  title  \\\n0     1     0                     St Louis, MO  (31.275, 512.329]      1   \n1     1     0  Montreal, PQ / Chesterville, ON  (31.275, 512.329]      3   \n2     0     0  Montreal, PQ / Chesterville, ON  (31.275, 512.329]      1   \n3     0     1  Montreal, PQ / Chesterville, ON  (31.275, 512.329]      0   \n4     0     0  Montreal, PQ / Chesterville, ON  (31.275, 512.329]      2   \n\n   FamilySize  \n0         0.0  \n1         1.2  \n2         1.2  \n3         1.2  \n4         1.2  "
                    },
                    "execution_count": 61,
                    "metadata": {},
                    "output_type": "execute_result"
                }
            ],
            "source": "t.head()"
        },
        {
            "cell_type": "code",
            "execution_count": 62,
            "metadata": {
                "colab": {},
                "colab_type": "code",
                "id": "I60RUBRBg6wD"
            },
            "outputs": [],
            "source": "features_drop = ['home_dest', 'Fare_Range', 'ticket']\nt = t.drop(features_drop, axis=1)"
        },
        {
            "cell_type": "code",
            "execution_count": 63,
            "metadata": {
                "colab": {
                    "base_uri": "https://localhost:8080/",
                    "height": 198
                },
                "colab_type": "code",
                "id": "V6_HMm0HhL4L",
                "outputId": "e0fb4153-097f-4bc5-f841-f9bc6f900e46"
            },
            "outputs": [
                {
                    "data": {
                        "text/html": "<div>\n<style scoped>\n    .dataframe tbody tr th:only-of-type {\n        vertical-align: middle;\n    }\n\n    .dataframe tbody tr th {\n        vertical-align: top;\n    }\n\n    .dataframe thead th {\n        text-align: right;\n    }\n</style>\n<table border=\"1\" class=\"dataframe\">\n  <thead>\n    <tr style=\"text-align: right;\">\n      <th></th>\n      <th>pclass</th>\n      <th>survived</th>\n      <th>sex</th>\n      <th>age</th>\n      <th>sibsp</th>\n      <th>parch</th>\n      <th>fare</th>\n      <th>cabin</th>\n      <th>embarked</th>\n      <th>boat</th>\n      <th>body</th>\n      <th>title</th>\n      <th>FamilySize</th>\n    </tr>\n  </thead>\n  <tbody>\n    <tr>\n      <th>0</th>\n      <td>1</td>\n      <td>1</td>\n      <td>1</td>\n      <td>2.0</td>\n      <td>0</td>\n      <td>0</td>\n      <td>3.0</td>\n      <td>0.4</td>\n      <td>0</td>\n      <td>1</td>\n      <td>0</td>\n      <td>1</td>\n      <td>0.0</td>\n    </tr>\n    <tr>\n      <th>1</th>\n      <td>1</td>\n      <td>1</td>\n      <td>0</td>\n      <td>0.0</td>\n      <td>1</td>\n      <td>2</td>\n      <td>3.0</td>\n      <td>0.8</td>\n      <td>0</td>\n      <td>1</td>\n      <td>0</td>\n      <td>3</td>\n      <td>1.2</td>\n    </tr>\n    <tr>\n      <th>2</th>\n      <td>1</td>\n      <td>0</td>\n      <td>1</td>\n      <td>0.0</td>\n      <td>1</td>\n      <td>2</td>\n      <td>3.0</td>\n      <td>0.8</td>\n      <td>0</td>\n      <td>0</td>\n      <td>0</td>\n      <td>1</td>\n      <td>1.2</td>\n    </tr>\n    <tr>\n      <th>3</th>\n      <td>1</td>\n      <td>0</td>\n      <td>0</td>\n      <td>2.0</td>\n      <td>1</td>\n      <td>2</td>\n      <td>3.0</td>\n      <td>0.8</td>\n      <td>0</td>\n      <td>0</td>\n      <td>1</td>\n      <td>0</td>\n      <td>1.2</td>\n    </tr>\n    <tr>\n      <th>4</th>\n      <td>1</td>\n      <td>0</td>\n      <td>1</td>\n      <td>1.0</td>\n      <td>1</td>\n      <td>2</td>\n      <td>3.0</td>\n      <td>0.8</td>\n      <td>0</td>\n      <td>0</td>\n      <td>0</td>\n      <td>2</td>\n      <td>1.2</td>\n    </tr>\n  </tbody>\n</table>\n</div>",
                        "text/plain": "   pclass  survived  sex  age  sibsp  parch  fare  cabin  embarked  boat  \\\n0       1         1    1  2.0      0      0   3.0    0.4         0     1   \n1       1         1    0  0.0      1      2   3.0    0.8         0     1   \n2       1         0    1  0.0      1      2   3.0    0.8         0     0   \n3       1         0    0  2.0      1      2   3.0    0.8         0     0   \n4       1         0    1  1.0      1      2   3.0    0.8         0     0   \n\n   body  title  FamilySize  \n0     0      1         0.0  \n1     0      3         1.2  \n2     0      1         1.2  \n3     1      0         1.2  \n4     0      2         1.2  "
                    },
                    "execution_count": 63,
                    "metadata": {},
                    "output_type": "execute_result"
                }
            ],
            "source": "t.head()"
        },
        {
            "cell_type": "code",
            "execution_count": 64,
            "metadata": {
                "colab": {
                    "base_uri": "https://localhost:8080/",
                    "height": 381
                },
                "colab_type": "code",
                "id": "-yDDsHDzlDR-",
                "outputId": "48926f09-def3-424d-a160-29537f21b56c"
            },
            "outputs": [
                {
                    "name": "stdout",
                    "output_type": "stream",
                    "text": "<class 'pandas.core.frame.DataFrame'>\nRangeIndex: 1309 entries, 0 to 1308\nData columns (total 13 columns):\npclass        1309 non-null int64\nsurvived      1309 non-null int64\nsex           1309 non-null int64\nage           1309 non-null float64\nsibsp         1309 non-null int64\nparch         1309 non-null int64\nfare          1309 non-null float64\ncabin         1309 non-null float64\nembarked      1309 non-null int64\nboat          1309 non-null int64\nbody          1309 non-null int64\ntitle         1309 non-null int64\nFamilySize    1309 non-null float64\ndtypes: float64(4), int64(9)\nmemory usage: 133.0 KB\n"
                }
            ],
            "source": "t.info()"
        },
        {
            "cell_type": "code",
            "execution_count": 65,
            "metadata": {
                "colab": {},
                "colab_type": "code",
                "id": "XbHe7UuMhX3N"
            },
            "outputs": [],
            "source": "labels=t['survived']\nfeatures = t.drop('survived', axis=1)\n#features = data.iloc[:, [0,1,2,4,5]]\n#features = data.iloc[:,0:-1]\n\nfrom sklearn.model_selection import train_test_split\n\nX=features\n\ny=np.ravel(labels)\n\nX_train, X_test, y_train, y_test = train_test_split(X, y, test_size=0.2, random_state=42) "
        },
        {
            "cell_type": "code",
            "execution_count": 66,
            "metadata": {
                "colab": {
                    "base_uri": "https://localhost:8080/",
                    "height": 54
                },
                "colab_type": "code",
                "id": "IeYL1kJ9j6Tm",
                "outputId": "3cf9eab5-a538-4963-da98-5614814dc9d6"
            },
            "outputs": [
                {
                    "name": "stdout",
                    "output_type": "stream",
                    "text": "(1309, 12)\n(1309,)\n"
                }
            ],
            "source": "print(X.shape)\nprint(y.shape)"
        },
        {
            "cell_type": "code",
            "execution_count": 67,
            "metadata": {
                "colab": {
                    "base_uri": "https://localhost:8080/",
                    "height": 54
                },
                "colab_type": "code",
                "id": "NDjvXl57kT46",
                "outputId": "7be7532d-1144-4721-e1c4-f103c777d91d"
            },
            "outputs": [
                {
                    "name": "stdout",
                    "output_type": "stream",
                    "text": "(1047, 12)\n(262, 12)\n"
                }
            ],
            "source": "print(X_train.shape)\nprint(X_test.shape)"
        },
        {
            "cell_type": "markdown",
            "metadata": {
                "colab_type": "text",
                "id": "MKZp4A1ykxPI"
            },
            "source": "# \u09ae\u09c7\u09b6\u09bf\u09a8 \u09b2\u09be\u09b0\u09cd\u09a8\u09bf\u0982 \u09ae\u09a1\u09c7\u09b2\u09bf\u0982"
        },
        {
            "cell_type": "code",
            "execution_count": 68,
            "metadata": {
                "colab": {},
                "colab_type": "code",
                "id": "zT-7WDA6ke0N"
            },
            "outputs": [],
            "source": "# Importing Classifier Modules\nfrom sklearn.tree import DecisionTreeClassifier\nfrom sklearn.ensemble import RandomForestClassifier\nfrom sklearn.linear_model import LogisticRegression\n"
        },
        {
            "cell_type": "code",
            "execution_count": 69,
            "metadata": {
                "colab": {},
                "colab_type": "code",
                "id": "k1ot3aIVk3hm"
            },
            "outputs": [],
            "source": "from sklearn.model_selection import KFold\nfrom sklearn.model_selection import cross_val_score\nk_fold = KFold(n_splits=10, shuffle=True, random_state=42)"
        },
        {
            "cell_type": "code",
            "execution_count": 70,
            "metadata": {
                "colab": {
                    "base_uri": "https://localhost:8080/",
                    "height": 72
                },
                "colab_type": "code",
                "id": "soGjt4zdlLVw",
                "outputId": "ade95442-8bc7-4d9f-bf33-8680db525cf2"
            },
            "outputs": [
                {
                    "name": "stdout",
                    "output_type": "stream",
                    "text": "[0.95238095 0.95238095 0.99047619 0.96190476 0.99047619 0.99047619\n 0.96190476 1.         0.95192308 0.95192308]\n"
                },
                {
                    "data": {
                        "text/plain": "97.04"
                    },
                    "execution_count": 70,
                    "metadata": {},
                    "output_type": "execute_result"
                }
            ],
            "source": "dt = DecisionTreeClassifier()\nscoring = 'accuracy'\nscore = cross_val_score(dt, X_train, y_train, cv=k_fold, n_jobs=1, scoring=scoring)\nprint(score)\n\nround(np.mean(score)*100, 2)"
        },
        {
            "cell_type": "code",
            "execution_count": 71,
            "metadata": {
                "colab": {
                    "base_uri": "https://localhost:8080/",
                    "height": 54
                },
                "colab_type": "code",
                "id": "VkyiwZbDoYPH",
                "outputId": "24ef2930-741c-48d1-c163-8c22c9aaeddb"
            },
            "outputs": [
                {
                    "data": {
                        "text/plain": "array([[144,   0],\n       [  7, 111]])"
                    },
                    "execution_count": 71,
                    "metadata": {},
                    "output_type": "execute_result"
                }
            ],
            "source": "dt.fit(X_train, y_train)\nprediction = dt.predict(X_test)\n\nfrom sklearn.metrics import confusion_matrix\nconfusion_matrix(y_test, prediction)"
        },
        {
            "cell_type": "code",
            "execution_count": 72,
            "metadata": {
                "colab": {
                    "base_uri": "https://localhost:8080/",
                    "height": 72
                },
                "colab_type": "code",
                "id": "GabY5i16mXDp",
                "outputId": "46720563-b850-406b-f87c-0bb9d1b1d667"
            },
            "outputs": [
                {
                    "name": "stdout",
                    "output_type": "stream",
                    "text": "[0.93333333 0.95238095 0.99047619 0.97142857 0.98095238 0.99047619\n 0.97142857 1.         0.94230769 0.95192308]\n"
                },
                {
                    "data": {
                        "text/plain": "96.85"
                    },
                    "execution_count": 72,
                    "metadata": {},
                    "output_type": "execute_result"
                }
            ],
            "source": "rf = RandomForestClassifier(n_estimators=13)\nscoring = 'accuracy'\nscore = cross_val_score(rf, X_train, y_train, cv=k_fold, n_jobs=1, scoring=scoring)\nprint(score)\n\nround(np.mean(score)*100, 2)"
        },
        {
            "cell_type": "code",
            "execution_count": 73,
            "metadata": {
                "colab": {
                    "base_uri": "https://localhost:8080/",
                    "height": 54
                },
                "colab_type": "code",
                "id": "b4mgtWzosQ-R",
                "outputId": "699e81b5-35ee-46cb-aa16-5cd164dfcaa8"
            },
            "outputs": [
                {
                    "data": {
                        "text/plain": "array([[144,   0],\n       [  7, 111]])"
                    },
                    "execution_count": 73,
                    "metadata": {},
                    "output_type": "execute_result"
                }
            ],
            "source": "rf.fit(X_train, y_train)\nprediction2 = rf.predict(X_test)\n\nfrom sklearn.metrics import confusion_matrix\nconfusion_matrix(y_test, prediction2)"
        },
        {
            "cell_type": "code",
            "execution_count": 74,
            "metadata": {
                "colab": {
                    "base_uri": "https://localhost:8080/",
                    "height": 72
                },
                "colab_type": "code",
                "id": "7fV00u1gnFQC",
                "outputId": "56bf8eb3-40c3-4274-a236-025bae0c8438"
            },
            "outputs": [
                {
                    "name": "stdout",
                    "output_type": "stream",
                    "text": "[0.93333333 0.97142857 1.         0.98095238 0.98095238 1.\n 0.98095238 1.         0.94230769 0.97115385]\n"
                },
                {
                    "name": "stderr",
                    "output_type": "stream",
                    "text": "/opt/conda/envs/Python36/lib/python3.6/site-packages/sklearn/linear_model/logistic.py:433: FutureWarning: Default solver will be changed to 'lbfgs' in 0.22. Specify a solver to silence this warning.\n  FutureWarning)\n/opt/conda/envs/Python36/lib/python3.6/site-packages/sklearn/linear_model/logistic.py:433: FutureWarning: Default solver will be changed to 'lbfgs' in 0.22. Specify a solver to silence this warning.\n  FutureWarning)\n/opt/conda/envs/Python36/lib/python3.6/site-packages/sklearn/linear_model/logistic.py:433: FutureWarning: Default solver will be changed to 'lbfgs' in 0.22. Specify a solver to silence this warning.\n  FutureWarning)\n/opt/conda/envs/Python36/lib/python3.6/site-packages/sklearn/linear_model/logistic.py:433: FutureWarning: Default solver will be changed to 'lbfgs' in 0.22. Specify a solver to silence this warning.\n  FutureWarning)\n/opt/conda/envs/Python36/lib/python3.6/site-packages/sklearn/linear_model/logistic.py:433: FutureWarning: Default solver will be changed to 'lbfgs' in 0.22. Specify a solver to silence this warning.\n  FutureWarning)\n/opt/conda/envs/Python36/lib/python3.6/site-packages/sklearn/linear_model/logistic.py:433: FutureWarning: Default solver will be changed to 'lbfgs' in 0.22. Specify a solver to silence this warning.\n  FutureWarning)\n/opt/conda/envs/Python36/lib/python3.6/site-packages/sklearn/linear_model/logistic.py:433: FutureWarning: Default solver will be changed to 'lbfgs' in 0.22. Specify a solver to silence this warning.\n  FutureWarning)\n/opt/conda/envs/Python36/lib/python3.6/site-packages/sklearn/linear_model/logistic.py:433: FutureWarning: Default solver will be changed to 'lbfgs' in 0.22. Specify a solver to silence this warning.\n  FutureWarning)\n/opt/conda/envs/Python36/lib/python3.6/site-packages/sklearn/linear_model/logistic.py:433: FutureWarning: Default solver will be changed to 'lbfgs' in 0.22. Specify a solver to silence this warning.\n  FutureWarning)\n/opt/conda/envs/Python36/lib/python3.6/site-packages/sklearn/linear_model/logistic.py:433: FutureWarning: Default solver will be changed to 'lbfgs' in 0.22. Specify a solver to silence this warning.\n  FutureWarning)\n"
                },
                {
                    "data": {
                        "text/plain": "97.61"
                    },
                    "execution_count": 74,
                    "metadata": {},
                    "output_type": "execute_result"
                }
            ],
            "source": "lr = LogisticRegression()\nscoring = 'accuracy'\nscore = cross_val_score(lr, X_train, y_train, cv=k_fold, n_jobs=1, scoring=scoring)\nprint(score)\nround(np.mean(score)*100, 2)"
        },
        {
            "cell_type": "code",
            "execution_count": 75,
            "metadata": {
                "colab": {
                    "base_uri": "https://localhost:8080/",
                    "height": 54
                },
                "colab_type": "code",
                "id": "4BIT03-NnQIC",
                "outputId": "ef2dd128-c724-46c8-a516-4c19f3871cfd"
            },
            "outputs": [
                {
                    "name": "stderr",
                    "output_type": "stream",
                    "text": "/opt/conda/envs/Python36/lib/python3.6/site-packages/sklearn/linear_model/logistic.py:433: FutureWarning: Default solver will be changed to 'lbfgs' in 0.22. Specify a solver to silence this warning.\n  FutureWarning)\n"
                },
                {
                    "data": {
                        "text/plain": "array([[144,   0],\n       [  7, 111]])"
                    },
                    "execution_count": 75,
                    "metadata": {},
                    "output_type": "execute_result"
                }
            ],
            "source": "lr.fit(X_train, y_train)\nprediction3 = lr.predict(X_test)\n\nfrom sklearn.metrics import confusion_matrix\nconfusion_matrix(y_test, prediction3)"
        },
        {
            "cell_type": "code",
            "execution_count": null,
            "metadata": {
                "colab": {},
                "colab_type": "code",
                "id": "byksib66soEP"
            },
            "outputs": [],
            "source": ""
        }
    ],
    "metadata": {
        "colab": {
            "name": "titanic3.ipynb",
            "provenance": []
        },
        "kernelspec": {
            "display_name": "Python 3.6",
            "language": "python",
            "name": "python3"
        },
        "language_info": {
            "codemirror_mode": {
                "name": "ipython",
                "version": 3
            },
            "file_extension": ".py",
            "mimetype": "text/x-python",
            "name": "python",
            "nbconvert_exporter": "python",
            "pygments_lexer": "ipython3",
            "version": "3.6.9"
        }
    },
    "nbformat": 4,
    "nbformat_minor": 1
}